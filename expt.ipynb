{
  "nbformat": 4,
  "nbformat_minor": 0,
  "metadata": {
    "colab": {
      "provenance": [],
      "authorship_tag": "ABX9TyNNQoT8tjxtrnbMpxfoWo1I",
      "include_colab_link": true
    },
    "kernelspec": {
      "name": "python3",
      "display_name": "Python 3"
    },
    "language_info": {
      "name": "python"
    }
  },
  "cells": [
    {
      "cell_type": "markdown",
      "metadata": {
        "id": "view-in-github",
        "colab_type": "text"
      },
      "source": [
        "<a href=\"https://colab.research.google.com/github/Davidlns/Teste-ISSUE/blob/master/expt.ipynb\" target=\"_parent\"><img src=\"https://colab.research.google.com/assets/colab-badge.svg\" alt=\"Open In Colab\"/></a>"
      ]
    },
    {
      "cell_type": "code",
      "execution_count": null,
      "metadata": {
        "id": "dchDtYcpMphP"
      },
      "outputs": [],
      "source": [
        "#identificar maior numero\n",
        "\n",
        "n1 = int(input('Informe o primeiro numero: '))\n",
        "n2 = int(input('Informe o segundo numero: '))\n",
        "if n1 > n2:\n",
        "  print(f'o numero {n1} é maior que o numero {n2}')\n",
        "\n",
        "if n1 == n2:\n",
        "  print(f'O numero {n1} é igual ao numero {n2}')\n",
        "\n",
        "if n2 > n1:\n",
        "  print (f'o numero {n2} é maior que o numero {n1}')"
      ]
    },
    {
      "cell_type": "code",
      "source": [
        "#conversor base 10 para base 2\n",
        "\n",
        "base10 = int(input('Numero na base decimal: '))\n",
        "i = 2\n",
        "base2 = []\n",
        "\n",
        "if base10 == 1:\n",
        "    base2.insert(0, base10)\n",
        "\n",
        "while base10 >= i:\n",
        "\n",
        "    restos = int(base10 % i)\n",
        "    base10 = int(base10 / i)\n",
        "\n",
        "    base2.insert(0,restos)\n",
        "\n",
        "    if base10 == 1:\n",
        "        base2.insert(0,base10)\n",
        "\n",
        "\n",
        "bi1 = \"\".join(map(str,base2))\n",
        "bi1 = int(bi1)\n",
        "print(f'Conversão para base binária: {bi1}')"
      ],
      "metadata": {
        "id": "A7Uswq0uNSHR"
      },
      "execution_count": null,
      "outputs": []
    },
    {
      "cell_type": "code",
      "source": [
        "#identificar se o numero é par ou impar\n",
        "\n",
        "num = int(input('Informe um numero: '))\n",
        "if(num % 2 == 0):\n",
        "  print(f'O numero {num} é par!')\n",
        "else:\n",
        "  print(f'O numero {num} é impar!')"
      ],
      "metadata": {
        "colab": {
          "base_uri": "https://localhost:8080/"
        },
        "id": "R1osJgDNNXgg",
        "outputId": "c1a23eb0-f83f-4b2b-bc37-950f7f796a8b"
      },
      "execution_count": 2,
      "outputs": [
        {
          "output_type": "stream",
          "name": "stdout",
          "text": [
            "Informe um numero: 22\n",
            "O numero 22 é par!\n"
          ]
        }
      ]
    },
    {
      "cell_type": "code",
      "source": [
        "#calculo de média e condições de aprovação ou reprovação\n",
        "\n",
        "nota1 = float(input('Informe Sua nota do 1 bimentre!: '))\n",
        "nota2 = float(input('Informe Sua nota do 2 bimestre!: '))\n",
        "nota3 = float(input('Informe Sua nota do 3 bimestre!: '))\n",
        "nota4 = float(input('Informe Sua nota do 4 bimestre!: '))\n",
        "\n",
        "media = (nota1 + nota2 + nota3 + nota4) / 4\n",
        "\n",
        "if media >= 7:\n",
        "  print(f'Sua media foi {media} e você foi aprovado!')\n",
        "\n",
        "elif(media >= 5):\n",
        "  print(f'Sua media foi {media} e você está na Recuperação')\n",
        "\n",
        "else:\n",
        "  print(f'Sua media foi {media} e você foi reprovado')\n"
      ],
      "metadata": {
        "colab": {
          "base_uri": "https://localhost:8080/"
        },
        "id": "vHWahHD9Ncsv",
        "outputId": "cdc9bace-8039-4ff7-d89e-ce8311d2b6ed"
      },
      "execution_count": 13,
      "outputs": [
        {
          "output_type": "stream",
          "name": "stdout",
          "text": [
            "Informe Sua nota do 1 bimentre!: 7\n",
            "Informe Sua nota do 2 bimestre!: 8\n",
            "Informe Sua nota do 3 bimestre!: 9\n",
            "Informe Sua nota do 4 bimestre!: 7\n",
            "Sua media foi 7.75 e você foi aprovado!\n"
          ]
        }
      ]
    },
    {
      "cell_type": "code",
      "source": [
        "#calculo de desconto baseado em quantidade\n",
        "quant = int(input('Informe a quantidade de produtos!: '))\n",
        "preco = float(10)\n",
        "totalp = float(quant * preco)\n",
        "valorf = float(totalp)\n",
        "desc = 0\n",
        "\n",
        "if quant > 10:\n",
        "    desc = float(totalp * 0.10)\n",
        "    valorf -= desc\n",
        "\n",
        "if quant > 20:\n",
        "  desc = (totalp * 0.20)\n",
        "  valorf = (totalp - desc)\n",
        "\n",
        "print(f'O valor inicial da sua compra foi R${totalp}, seu desconto foi de R${desc}, e o total a ser pago é R${valorf}')\n",
        ""
      ],
      "metadata": {
        "colab": {
          "base_uri": "https://localhost:8080/"
        },
        "id": "iXfUzkFTRv3R",
        "outputId": "3447d7e5-d302-4b1a-840f-e84b8e22447e"
      },
      "execution_count": 13,
      "outputs": [
        {
          "output_type": "stream",
          "name": "stdout",
          "text": [
            "Informe a quantidade de produtos!: 21\n",
            "O valor inicial da sua compra foi R$210.0, seu desconto foi de R$42.0, e o total a ser pago é R$168.0\n"
          ]
        }
      ]
    }
  ]
}
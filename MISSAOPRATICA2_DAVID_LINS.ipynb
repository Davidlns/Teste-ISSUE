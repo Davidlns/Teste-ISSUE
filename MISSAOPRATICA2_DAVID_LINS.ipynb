{
  "nbformat": 4,
  "nbformat_minor": 0,
  "metadata": {
    "colab": {
      "provenance": [],
      "authorship_tag": "ABX9TyNa0rGLBP6ntGJRBf5vsI+1",
      "include_colab_link": true
    },
    "kernelspec": {
      "name": "python3",
      "display_name": "Python 3"
    },
    "language_info": {
      "name": "python"
    }
  },
  "cells": [
    {
      "cell_type": "markdown",
      "metadata": {
        "id": "view-in-github",
        "colab_type": "text"
      },
      "source": [
        "<a href=\"https://colab.research.google.com/github/Davidlns/Teste-ISSUE/blob/master/MISSAOPRATICA2_DAVID_LINS.ipynb\" target=\"_parent\"><img src=\"https://colab.research.google.com/assets/colab-badge.svg\" alt=\"Open In Colab\"/></a>"
      ]
    },
    {
      "cell_type": "code",
      "execution_count": 3,
      "metadata": {
        "id": "d7hdlCn3Zvga"
      },
      "outputs": [],
      "source": [
        "def entrada_de_dados():\n",
        "    return [1, 2, 3]"
      ]
    },
    {
      "cell_type": "code",
      "source": [
        "def calcular_combinacoes(lista):\n",
        "    resultado = [[]]\n",
        "\n",
        "    for i in range(1, len(lista) + 1):\n",
        "        for combo in itertools.combinations(lista, i):\n",
        "            resultado.append(list(combo))\n",
        "\n",
        "    return resultado\n",
        "\n",
        "import itertools"
      ],
      "metadata": {
        "id": "9TDSYOFgZ6z8"
      },
      "execution_count": 2,
      "outputs": []
    },
    {
      "cell_type": "code",
      "source": [
        "numeros = entrada_de_dados()\n",
        "resultados = calcular_combinacoes(numeros)\n",
        "print(\"Lista de combinações:\", resultados)"
      ],
      "metadata": {
        "colab": {
          "base_uri": "https://localhost:8080/"
        },
        "id": "M-EjLwadaAMH",
        "outputId": "ff5a7330-32db-46fd-a551-ca8dbcc8c858"
      },
      "execution_count": 5,
      "outputs": [
        {
          "output_type": "stream",
          "name": "stdout",
          "text": [
            "Lista de combinações: [[], [1], [2], [3], [1, 2], [1, 3], [2, 3], [1, 2, 3]]\n"
          ]
        }
      ]
    }
  ]
}